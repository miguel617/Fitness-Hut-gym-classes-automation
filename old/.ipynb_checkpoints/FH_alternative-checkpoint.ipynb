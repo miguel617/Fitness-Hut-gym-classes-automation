{
 "cells": [
  {
   "cell_type": "code",
   "execution_count": 1,
   "id": "c3bb5c1f-14ba-4167-859a-46661a840ea5",
   "metadata": {},
   "outputs": [],
   "source": [
    "#!/usr/bin/env python\n",
    "# coding: utf-8\n",
    "\n",
    "import time\n",
    "import pandas as pd\n",
    "from bs4 import BeautifulSoup\n",
    "from datetime import datetime, timedelta\n",
    "import os\n",
    "import subprocess\n",
    "import configparser\n",
    "import chromedriver_autoinstaller\n",
    "\n",
    "from selenium import webdriver\n",
    "from selenium.webdriver.common.by import By\n",
    "from selenium.webdriver.common.keys import Keys\n",
    "from selenium.webdriver.chrome.service import Service\n",
    "from selenium.webdriver.chrome.options import Options\n",
    "from selenium.webdriver.support.ui import WebDriverWait\n",
    "from selenium.webdriver.support import expected_conditions as EC\n",
    "from selenium.webdriver.support.ui import Select\n",
    "from selenium.common.exceptions import WebDriverException, StaleElementReferenceException\n",
    "\n",
    "import smtplib\n",
    "from email.mime.text import MIMEText\n",
    "from email.mime.multipart import MIMEMultipart\n",
    "\n",
    "from main_init import initial_exec, clone_repo, commit_push"
   ]
  },
  {
   "cell_type": "code",
   "execution_count": 4,
   "id": "0c5d2549-bf85-4388-9c47-9abcd101be79",
   "metadata": {},
   "outputs": [],
   "source": [
    "# define important parameters - on the config.ini file and parse it\n",
    "config = configparser.ConfigParser()\n",
    "config.read('config.ini')\n",
    "\n",
    "# usually these 3 are static\n",
    "\n",
    "#chromedriver = config['Optional Config Parameters']['chromedriver']\n",
    "gui_display = eval(config['Optional Config Parameters']['gui_display']) # to show or not the GUI - True is only useful when testing and to deploy outside my PC, it had to be False\n",
    "website = config['Optional Config Parameters']['website']\n",
    "\n",
    "user = config['Fitness Hut Credentials']['username']\n",
    "pwd = config['Fitness Hut Credentials']['password']\n",
    "\n",
    "\n",
    "# run the function on main_init.py and assign 2 variables to continue\n",
    "driver, wait = initial_exec(user, pwd, website, gui_display)\n",
    "\n",
    "# retrieve dictionary of days to schedule - we can change this always\n",
    "\n",
    "classes_dict = eval(config['Classes to Schedule by Day']['classes_dict'])"
   ]
  },
  {
   "cell_type": "code",
   "execution_count": 2,
   "id": "7a2822b2-c1ae-4870-beb8-8d421591c6ab",
   "metadata": {},
   "outputs": [],
   "source": [
    "# Retrieve and modify the file\n",
    "def modify_file(file_path, new_content):\n",
    "    with open(file_path, 'a') as file:  # 'a' mode to append, 'w' mode to overwrite\n",
    "        file.write(new_content)"
   ]
  },
  {
   "cell_type": "code",
   "execution_count": 3,
   "id": "f89a74a3-bc5a-458c-9bc0-f17180fc02d6",
   "metadata": {},
   "outputs": [
    {
     "ename": "NameError",
     "evalue": "name 'config' is not defined",
     "output_type": "error",
     "traceback": [
      "\u001b[1;31m---------------------------------------------------------------------------\u001b[0m",
      "\u001b[1;31mNameError\u001b[0m                                 Traceback (most recent call last)",
      "Cell \u001b[1;32mIn[3], line 1\u001b[0m\n\u001b[1;32m----> 1\u001b[0m repo_url \u001b[38;5;241m=\u001b[39m config[\u001b[38;5;124m'\u001b[39m\u001b[38;5;124mOptional Config Parameters\u001b[39m\u001b[38;5;124m'\u001b[39m][\u001b[38;5;124m'\u001b[39m\u001b[38;5;124mgithub_repo\u001b[39m\u001b[38;5;124m'\u001b[39m]\n\u001b[0;32m      2\u001b[0m clone_dir \u001b[38;5;241m=\u001b[39m \u001b[38;5;124m'\u001b[39m\u001b[38;5;124m'\u001b[39m\n\u001b[0;32m      3\u001b[0m file_path \u001b[38;5;241m=\u001b[39m os\u001b[38;5;241m.\u001b[39mpath\u001b[38;5;241m.\u001b[39mjoin(clone_dir, \u001b[38;5;124m'\u001b[39m\u001b[38;5;124mrun_logs.txt\u001b[39m\u001b[38;5;124m'\u001b[39m)\n",
      "\u001b[1;31mNameError\u001b[0m: name 'config' is not defined"
     ]
    }
   ],
   "source": [
    "repo_url = config['Optional Config Parameters']['github_repo']\n",
    "clone_dir = ''\n",
    "file_path = os.path.join(clone_dir, 'run_logs.txt')\n",
    "new_content = '22-08-2024.\\n'\n",
    "commit_message = 'Updated run_logs.txt with new successful run'\n",
    "\n",
    "clone_repo(repo_url, clone_dir)\n",
    "modify_file(file_path, new_content)\n",
    "commit_push(commit_message)"
   ]
  },
  {
   "cell_type": "code",
   "execution_count": null,
   "id": "ed06a6ca-50e8-4a48-94b5-5f6514c9ec8e",
   "metadata": {},
   "outputs": [],
   "source": []
  },
  {
   "cell_type": "code",
   "execution_count": 8,
   "id": "e3e8dec3-fb40-4c75-93d5-011c13f03f6c",
   "metadata": {},
   "outputs": [],
   "source": [
    "import yaml\n",
    "from croniter import croniter\n",
    "from datetime import datetime, timedelta\n",
    "\n",
    "# Step 1: Read the YAML file\n",
    "def read_yaml_file(file_path):\n",
    "    with open(file_path, 'r') as file:\n",
    "        return yaml.safe_load(file)\n",
    "\n",
    "# Step 2: Get the cron jobs from the YAML\n",
    "def get_cron_jobs(yaml_data):\n",
    "    return yaml_data.get('cron_jobs', [])\n",
    "\n",
    "# Step 3: Determine which cron jobs should have been running\n",
    "def get_missed_cron_jobs(cron_jobs, last_run_time, current_time):\n",
    "    missed_jobs = []\n",
    "    for job in cron_jobs:\n",
    "        cron_expr = job['schedule']\n",
    "        cron = croniter(cron_expr, last_run_time)\n",
    "        # Iterate through possible run times\n",
    "        while cron.get_next(datetime) <= current_time:\n",
    "            missed_jobs.append(job)\n",
    "    return missed_jobs"
   ]
  },
  {
   "cell_type": "code",
   "execution_count": 10,
   "id": "46333c0b-b0b4-49ab-abc0-e91463f1a07d",
   "metadata": {},
   "outputs": [],
   "source": [
    "file_path = '.github/workflows/schedule.yml'\n",
    "yaml_data = read_yaml_file(file_path)"
   ]
  },
  {
   "cell_type": "code",
   "execution_count": 16,
   "id": "acd8ed49-5df4-445d-aa7a-995f8f3ba171",
   "metadata": {},
   "outputs": [
    {
     "data": {
      "text/plain": [
       "{'name': 'Scheduled Docker Job',\n",
       " True: {'workflow_dispatch': None,\n",
       "  'schedule': [{'cron': '0 0 * * 0'},\n",
       "   {'cron': '0 6 * * 0'},\n",
       "   {'cron': '15 0 * * 1'},\n",
       "   {'cron': '30 5 * * 2'},\n",
       "   {'cron': '13 16 * * 3'},\n",
       "   {'cron': '48 15 * * 3'},\n",
       "   {'cron': '15 0 * * 3'},\n",
       "   {'cron': '15 5 * * 4'},\n",
       "   {'cron': '0 6 * * 4'}]},\n",
       " 'jobs': {'run-docker': {'runs-on': 'ubuntu-latest',\n",
       "   'steps': [{'name': 'Checkout code', 'uses': 'actions/checkout@v2'},\n",
       "    {'name': 'Set up Docker Buildx', 'uses': 'docker/setup-buildx-action@v2'},\n",
       "    {'name': 'Build Docker image',\n",
       "     'run': 'docker build -t fh-automation-image .\\n'},\n",
       "    {'name': 'Run Docker container',\n",
       "     'run': 'docker run --env-file variables.env fh-automation-image\\n'}]}}}"
      ]
     },
     "execution_count": 16,
     "metadata": {},
     "output_type": "execute_result"
    }
   ],
   "source": [
    "yaml_data"
   ]
  },
  {
   "cell_type": "code",
   "execution_count": 27,
   "id": "842aa7b1-d301-449e-87aa-66a641625e8b",
   "metadata": {},
   "outputs": [
    {
     "data": {
      "text/plain": [
       "['0 0 * * 0',\n",
       " '0 6 * * 0',\n",
       " '15 0 * * 1',\n",
       " '30 5 * * 2',\n",
       " '13 16 * * 3',\n",
       " '48 15 * * 3',\n",
       " '15 0 * * 3',\n",
       " '15 5 * * 4',\n",
       " '0 6 * * 4']"
      ]
     },
     "execution_count": 27,
     "metadata": {},
     "output_type": "execute_result"
    }
   ],
   "source": [
    "ola = yaml_data[True]['schedule']\n",
    "\n",
    "cron_jobs = [item['cron'] for item in ola]\n",
    "cron_jobs"
   ]
  },
  {
   "cell_type": "code",
   "execution_count": 31,
   "id": "f1b97fd5-80d2-4535-ae19-2a453080ad48",
   "metadata": {},
   "outputs": [
    {
     "data": {
      "text/plain": [
       "datetime.datetime(2024, 8, 22, 10, 16, 26, 168160)"
      ]
     },
     "execution_count": 31,
     "metadata": {},
     "output_type": "execute_result"
    }
   ],
   "source": [
    "last_run_time"
   ]
  },
  {
   "cell_type": "code",
   "execution_count": 28,
   "id": "48f9abf6-bde3-4df8-84d9-6e1c6ba4bfe6",
   "metadata": {},
   "outputs": [
    {
     "ename": "TypeError",
     "evalue": "string indices must be integers, not 'str'",
     "output_type": "error",
     "traceback": [
      "\u001b[1;31m---------------------------------------------------------------------------\u001b[0m",
      "\u001b[1;31mTypeError\u001b[0m                                 Traceback (most recent call last)",
      "Cell \u001b[1;32mIn[28], line 10\u001b[0m\n\u001b[0;32m      7\u001b[0m \u001b[38;5;66;03m# Current time\u001b[39;00m\n\u001b[0;32m      8\u001b[0m current_time \u001b[38;5;241m=\u001b[39m datetime\u001b[38;5;241m.\u001b[39mnow()\n\u001b[1;32m---> 10\u001b[0m missed_jobs \u001b[38;5;241m=\u001b[39m get_missed_cron_jobs(cron_jobs, last_run_time, current_time)\n",
      "Cell \u001b[1;32mIn[8], line 18\u001b[0m, in \u001b[0;36mget_missed_cron_jobs\u001b[1;34m(cron_jobs, last_run_time, current_time)\u001b[0m\n\u001b[0;32m     16\u001b[0m missed_jobs \u001b[38;5;241m=\u001b[39m []\n\u001b[0;32m     17\u001b[0m \u001b[38;5;28;01mfor\u001b[39;00m job \u001b[38;5;129;01min\u001b[39;00m cron_jobs:\n\u001b[1;32m---> 18\u001b[0m     cron_expr \u001b[38;5;241m=\u001b[39m job[\u001b[38;5;124m'\u001b[39m\u001b[38;5;124mschedule\u001b[39m\u001b[38;5;124m'\u001b[39m]\n\u001b[0;32m     19\u001b[0m     cron \u001b[38;5;241m=\u001b[39m croniter(cron_expr, last_run_time)\n\u001b[0;32m     20\u001b[0m     \u001b[38;5;66;03m# Iterate through possible run times\u001b[39;00m\n",
      "\u001b[1;31mTypeError\u001b[0m: string indices must be integers, not 'str'"
     ]
    }
   ],
   "source": [
    "# Assuming 'cron_jobs' is a list of jobs with 'schedule' field in cron format\n",
    "#cron_jobs = get_cron_jobs(yaml_data)\n",
    "\n",
    "# Time the cron job was supposed to run (e.g., 1 hour ago)\n",
    "last_run_time = datetime.now() - timedelta(hours=1)\n",
    "\n",
    "# Current time\n",
    "current_time = datetime.now()\n",
    "\n",
    "missed_jobs = get_missed_cron_jobs(cron_jobs, last_run_time, current_time)"
   ]
  },
  {
   "cell_type": "code",
   "execution_count": 13,
   "id": "fc2fe8fb-a2d9-4d4b-9177-39fd3e404b13",
   "metadata": {},
   "outputs": [
    {
     "data": {
      "text/plain": [
       "[]"
      ]
     },
     "execution_count": 13,
     "metadata": {},
     "output_type": "execute_result"
    }
   ],
   "source": [
    "cron_jobs"
   ]
  },
  {
   "cell_type": "code",
   "execution_count": null,
   "id": "ab0d1b96-067c-4025-9217-eede946e495a",
   "metadata": {},
   "outputs": [],
   "source": [
    "# now we want to know today's date so that we can book tomorrow's class - 36 + 1 hours ahead \n",
    "# This because here in config.ini we define Lisbon Time which is UTC + 1, vs UTC scheduler in the app where we will deploy\n",
    "\n",
    "#current_time = datetime(2024, 8, 19, 1, 30, 46, 553971)\n",
    "current_time = datetime.now()\n",
    "print(current_time)\n",
    "\n",
    "today = current_time.strftime(\"%Y-%m-%d\")\n",
    "day_of_week_today = current_time.strftime('%A')\n",
    "\n",
    "tomorrow = (current_time + timedelta(hours=37)).strftime(\"%Y-%m-%d\")\n",
    "day_of_week_tomorrow = (current_time + timedelta(hours=37)).strftime('%A')\n",
    "\n",
    "\n",
    "#tomorrow = '2024-08-16'\n",
    "#day_of_week_tomorrow = 'Friday'\n",
    "#classes_of_day = ['19:30', '21:30']\n",
    "\n",
    "# click on tomorrow's day first\n",
    "\n",
    "day_select = wait.until(EC.element_to_be_clickable((By.CSS_SELECTOR, '[data-cy=\"booking-swiper-date-{}\"]'.format(tomorrow))))\n",
    "day_select.click()\n",
    "\n",
    "def schedule_slots(driver, wait, class_of_day, max_retries=5, retry_delay=2):\n",
    "    \n",
    "    for attempt in range(max_retries):\n",
    "        try:\n",
    "            # Locate all schedules\n",
    "            elements = wait.until(EC.visibility_of_all_elements_located((By.CSS_SELECTOR, '[data-cy=\"start-time\"]')))\n",
    "            \n",
    "            # Attempt to find and click the desired class slot\n",
    "            for element in elements:\n",
    "                if element.text == class_of_day:\n",
    "                    # Click the element\n",
    "                    #driver.execute_script(\"arguments[0].click();\", element)\n",
    "                    element.click()\n",
    "                    \n",
    "                    # Book the class by clicking the appropriate buttons\n",
    "                    class_book = wait.until(EC.element_to_be_clickable((By.CSS_SELECTOR, '[data-cy=\"book-button\"]')))\n",
    "                    class_book.click()\n",
    "                    \n",
    "                    confirm_book = wait.until(EC.element_to_be_clickable((By.CSS_SELECTOR, '[data-cy=\"book-class-confirm-button\"]')))\n",
    "                    confirm_book.click()\n",
    "                    \n",
    "                    print(\"Class {} booked successfully.\".format(class_of_day))\n",
    "                    return class_of_day # Exit the function after successful booking\n",
    "            \n",
    "            # If the loop completes without finding the class, refresh and retry\n",
    "            print(\"Class not found, refreshing the page.\")\n",
    "            driver.refresh()\n",
    "            time.sleep(retry_delay)\n",
    "        \n",
    "        except (WebDriverException, StaleElementReferenceException) as e:\n",
    "            print(f\"Attempt {attempt + 1} failed: {e}\")\n",
    "            time.sleep(retry_delay)  # Wait before retrying\n",
    "    \n",
    "    print(\"Failed to book the class after maximum retries.\")\n",
    "\n",
    "# change 18-08-24 - to run only this script once per schedule, so in fact, the list will be only 1 schedule - 36 + 1 hours after\n",
    "\n",
    "# Calculate the time 37 hours from now\n",
    "target_time = current_time + timedelta(hours=37)\n",
    "\n",
    "# Function to check if a class is within the target time range (±30 minutes)\n",
    "def is_class_within_target_range(class_time_str):\n",
    "    # Combine the next day and class time into a datetime object\n",
    "    class_time = datetime.strptime(class_time_str, '%H:%M')\n",
    "    class_datetime = target_time.replace(hour=class_time.hour, minute=class_time.minute)\n",
    "\n",
    "    # Check if the class time falls within the ±30 minutes (1800 seconds) range\n",
    "    return abs((class_datetime - target_time).total_seconds()) <= 1800\n",
    "\n",
    "# Find and print the classes that match the criteria for the next day\n",
    "scheduled_classes = []\n",
    "if day_of_week_tomorrow in classes_dict:\n",
    "    for time_str, class_name in classes_dict[day_of_week_tomorrow].items():\n",
    "        if is_class_within_target_range(time_str):\n",
    "            scheduled_classes.append(f\"{day_of_week_tomorrow} {time_str} - {class_name}\")\n",
    "\n",
    "classes_of_day = []\n",
    "# Output the scheduled classes\n",
    "if scheduled_classes:\n",
    "    print(\"Scheduled classes:\")\n",
    "    for scheduled_class in scheduled_classes:\n",
    "        print(scheduled_class)\n",
    "        classes_of_day.append(scheduled_class.split()[1])\n",
    "else:\n",
    "    print(\"No classes available within the target time range.\")\n",
    "\n",
    "successful_classes = []\n",
    "\n",
    "# run all and see which ones were successfully reserved (\"successful_classes\" variable)\n",
    "for class_of_day in classes_of_day:\n",
    "    print(class_of_day)\n",
    "    successful_class = schedule_slots(driver, wait, class_of_day)\n",
    "    successful_classes.append(successful_class)\n",
    "\n",
    "# See the corresponding class names of each succeful time slot\n",
    "filtered_class_dict = {time: classes_dict[day_of_week_tomorrow][time] for time in successful_classes if time in classes_dict[day_of_week_tomorrow]}\n",
    "\n",
    "print(filtered_class_dict)\n",
    "\n",
    "\n",
    "# now that all was done, close the session\n",
    "driver.quit()"
   ]
  },
  {
   "cell_type": "code",
   "execution_count": 3,
   "id": "a4443482-9bf4-4f27-99bc-1ef46848a050",
   "metadata": {},
   "outputs": [],
   "source": [
    "# define function to send email via TLS\n",
    "\n",
    "def send_notification(filtered_class_dict, user_email, thread_message_id=None):\n",
    "    # Set up the server and email details\n",
    "    smtp_server = 'smtp.gmail.com'\n",
    "    smtp_port = 587  # TLS port\n",
    "    smtp_user = os.getenv('SMTP_USER')  # access the env variable\n",
    "    smtp_password = os.getenv('SMTP_PASSWORD')  # access the env variable\n",
    "    \n",
    "    # Create the email\n",
    "    msg = MIMEMultipart()\n",
    "    msg['From'] = smtp_user\n",
    "    msg['To'] = user_email\n",
    "    msg['Subject'] = f'Fitness Hut Class Booking Notification for {tomorrow}'\n",
    "\n",
    "    # Include threading headers if replying to an existing thread\n",
    "    if thread_message_id:\n",
    "        msg['In-Reply-To'] = thread_message_id\n",
    "        msg['References'] = thread_message_id\n",
    "    else:\n",
    "        # Generate a unique Message-ID for this email (this will be used as the thread ID)\n",
    "        msg_id_domain = smtp_user.split('@')[-1]\n",
    "        msg_id = f\"<{os.urandom(24).hex()}@{msg_id_domain}>\"\n",
    "        msg['Message-ID'] = msg_id\n",
    "        print(f'msg_id is {msg_id}')\n",
    "\n",
    "    # Create the body of the email\n",
    "    if filtered_class_dict:\n",
    "        concatenated_items = [f\"{key} - {value}\" for key, value in filtered_class_dict.items()]\n",
    "        \n",
    "        body = f\"The following classes were successfully booked for {day_of_week_tomorrow}, {tomorrow}:\\n\\n\" + \"\\n\".join(concatenated_items)\n",
    "    else:\n",
    "        body = f\"No classes were successfully booked for {day_of_week_tomorrow}, {tomorrow} :(\"\n",
    "\n",
    "    msg.attach(MIMEText(body, 'plain'))\n",
    "    \n",
    "    # Send the email\n",
    "    try:\n",
    "        server = smtplib.SMTP(smtp_server, smtp_port)\n",
    "        server.starttls()\n",
    "        server.login(smtp_user, smtp_password)\n",
    "        text = msg.as_string()\n",
    "        server.sendmail(smtp_user, user_email, text)\n",
    "        server.quit()\n",
    "        print(f\"Notification email sent to {user_email}\")\n",
    "        \n",
    "        # Return the Message-ID to use it in the next reply\n",
    "        return msg_id if not thread_message_id else thread_message_id\n",
    "        \n",
    "    except Exception as e:\n",
    "        print(f\"Failed to send email: {e}\")\n",
    "        return None"
   ]
  },
  {
   "cell_type": "code",
   "execution_count": 4,
   "id": "38fbe214-e371-4b29-9aef-74f2d93e4cb6",
   "metadata": {},
   "outputs": [
    {
     "name": "stdout",
     "output_type": "stream",
     "text": [
      "current time is: 2024-08-22 10:05:45.909192\n"
     ]
    }
   ],
   "source": [
    "# send email notification\n",
    "\n",
    "receive_notification_email = config['Email Notification']['receiver_email']\n",
    "\n",
    "#send_notification(filtered_class_dict, receive_notification_email, thread_message_id='<d457b64436c0154acaf5d6778875a5e6ebba97c8be1cfb30@gmail.com>')\n",
    "\n",
    "print('current time is: {}'.format(datetime.now()))"
   ]
  },
  {
   "cell_type": "code",
   "execution_count": null,
   "id": "0971b05f-0114-42e4-90e8-d90a6a3774b5",
   "metadata": {},
   "outputs": [],
   "source": []
  }
 ],
 "metadata": {
  "kernelspec": {
   "display_name": "Python 3 (ipykernel)",
   "language": "python",
   "name": "python3"
  },
  "language_info": {
   "codemirror_mode": {
    "name": "ipython",
    "version": 3
   },
   "file_extension": ".py",
   "mimetype": "text/x-python",
   "name": "python",
   "nbconvert_exporter": "python",
   "pygments_lexer": "ipython3",
   "version": "3.12.4"
  }
 },
 "nbformat": 4,
 "nbformat_minor": 5
}
