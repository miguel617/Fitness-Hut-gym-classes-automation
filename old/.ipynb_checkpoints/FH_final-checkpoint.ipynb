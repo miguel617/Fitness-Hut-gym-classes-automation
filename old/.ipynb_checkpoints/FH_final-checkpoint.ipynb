{
 "cells": [
  {
   "cell_type": "code",
   "execution_count": 1,
   "id": "2616372f-a7df-48ae-8c98-daaf854e0e76",
   "metadata": {},
   "outputs": [],
   "source": [
    "#!/usr/bin/env python\n",
    "# coding: utf-8\n",
    "\n",
    "import time\n",
    "import pandas as pd\n",
    "from bs4 import BeautifulSoup\n",
    "from datetime import datetime, timedelta\n",
    "import os\n",
    "import configparser\n",
    "import chromedriver_autoinstaller\n",
    "\n",
    "from selenium import webdriver\n",
    "from selenium.webdriver.common.by import By\n",
    "from selenium.webdriver.common.keys import Keys\n",
    "from selenium.webdriver.chrome.service import Service\n",
    "from selenium.webdriver.chrome.options import Options\n",
    "from selenium.webdriver.support.ui import WebDriverWait\n",
    "from selenium.webdriver.support import expected_conditions as EC\n",
    "from selenium.webdriver.support.ui import Select\n",
    "from selenium.common.exceptions import WebDriverException, StaleElementReferenceException\n",
    "\n",
    "import smtplib\n",
    "from email.mime.text import MIMEText\n",
    "from email.mime.multipart import MIMEMultipart\n",
    "\n",
    "from main_init import initial_exec"
   ]
  },
  {
   "cell_type": "code",
   "execution_count": 2,
   "id": "ad179899-8ca3-4f76-bb3b-540744d76584",
   "metadata": {},
   "outputs": [],
   "source": [
    "# define important parameters - on the config.ini file and parse it\n",
    "config = configparser.ConfigParser()\n",
    "config.read('config.ini')\n",
    "\n",
    "# usually these 3 are static\n",
    "\n",
    "#chromedriver = config['Optional Config Parameters']['chromedriver']\n",
    "gui_display = eval(config['Optional Config Parameters']['gui_display']) # to show or not the GUI - True is only useful when testing and to deploy outside my PC, it had to be False\n",
    "website = config['Optional Config Parameters']['website']\n",
    "\n",
    "user = config['Fitness Hut Credentials']['username']\n",
    "pwd = config['Fitness Hut Credentials']['password']\n",
    "\n",
    "\n",
    "# run the function on main_init.py and assign 2 variables to continue\n",
    "driver, wait = initial_exec(user, pwd, website, gui_display)\n",
    "\n",
    "# retrieve dictionary of days to schedule - we can change this always\n",
    "\n",
    "classes_dict = eval(config['Classes to Schedule by Day']['classes_dict'])"
   ]
  },
  {
   "cell_type": "code",
   "execution_count": 3,
   "id": "e62fb999-77cf-4444-9b4d-2959a2a7c5b0",
   "metadata": {},
   "outputs": [
    {
     "name": "stdout",
     "output_type": "stream",
     "text": [
      "2024-08-22 13:30:06.536840\n"
     ]
    }
   ],
   "source": [
    "# now we want to know today's date so that we can book tomorrow's class - 36 + 1 hours ahead \n",
    "# This because here in config.ini we define Lisbon Time which is UTC + 1, vs UTC scheduler in the app where we will deploy\n",
    "\n",
    "#current_time = datetime(2024, 8, 22, 13, 30, 46, 553971)\n",
    "current_time = datetime.now()\n",
    "print(current_time)\n",
    "\n",
    "today = current_time.strftime(\"%Y-%m-%d\")\n",
    "day_of_week_today = current_time.strftime('%A')\n",
    "\n",
    "tomorrow = (current_time + timedelta(hours=37)).strftime(\"%Y-%m-%d\")\n",
    "day_of_week_tomorrow = (current_time + timedelta(hours=37)).strftime('%A')"
   ]
  },
  {
   "cell_type": "code",
   "execution_count": 4,
   "id": "a6b8305f-6653-412b-9068-a03b0b392dc9",
   "metadata": {},
   "outputs": [],
   "source": [
    "#tomorrow = '2024-08-16'\n",
    "#day_of_week_tomorrow = 'Friday'\n",
    "#classes_of_day = ['19:30', '21:30']\n",
    "\n",
    "# click on tomorrow's day first\n",
    "\n",
    "day_select = wait.until(EC.element_to_be_clickable((By.CSS_SELECTOR, '[data-cy=\"booking-swiper-date-{}\"]'.format(tomorrow))))\n",
    "day_select.click()"
   ]
  },
  {
   "cell_type": "code",
   "execution_count": 5,
   "id": "753aa015-e5c5-4a66-a394-ffca2ebdab9b",
   "metadata": {},
   "outputs": [],
   "source": [
    "# to run only this script once per schedule, so in fact, the list will be only 1 schedule - 36 + 1 hours after\n",
    "def find_classes_in_next_37_hours(classes_dict):\n",
    "    # Get the current datetime\n",
    "    now = datetime.now()\n",
    "    \n",
    "    # Calculate the datetime 37 hours from now\n",
    "    time_37_hours_later = now + timedelta(hours=37)\n",
    "    \n",
    "    # Days of the week to map string to weekday index\n",
    "    days_of_week = ['Monday', 'Tuesday', 'Wednesday', 'Thursday', 'Friday', 'Saturday', 'Sunday']\n",
    "    \n",
    "    # List to store results\n",
    "    upcoming_classes = []\n",
    "\n",
    "    # Iterate over each day in classes_dict\n",
    "    for day, schedule in classes_dict.items():\n",
    "        for time_str, class_name in schedule.items():\n",
    "            # Convert time_str (e.g., '13:00') to a datetime object for the current week\n",
    "            time_of_class = datetime.strptime(f\"{day} {time_str}\", \"%A %H:%M\")\n",
    "            \n",
    "            # Adjust the datetime object to this week's corresponding day\n",
    "            time_of_class = time_of_class.replace(\n",
    "                year=now.year,\n",
    "                month=now.month,\n",
    "                day=(now + timedelta(days=(days_of_week.index(day) - now.weekday()) % 7)).day\n",
    "            )\n",
    "\n",
    "            # Check if the class is within the next 37 hours\n",
    "            if now <= time_of_class <= time_37_hours_later:\n",
    "                upcoming_classes.append((time_of_class, class_name))\n",
    "    \n",
    "    return upcoming_classes"
   ]
  },
  {
   "cell_type": "code",
   "execution_count": 6,
   "id": "f167a55d-9f59-4564-9011-99407ca35f95",
   "metadata": {},
   "outputs": [],
   "source": [
    "def schedule_slots(driver, wait, class_of_day, max_retries=5, retry_delay=2):\n",
    "    \n",
    "    for attempt in range(max_retries):\n",
    "        try:\n",
    "            # Locate all schedules\n",
    "            elements = wait.until(EC.visibility_of_all_elements_located((By.CSS_SELECTOR, '[data-cy=\"start-time\"]')))\n",
    "            \n",
    "            # Attempt to find and click the desired class slot\n",
    "            for element in elements:\n",
    "                if element.text == class_of_day:\n",
    "                    # Click the element\n",
    "                    #driver.execute_script(\"arguments[0].click();\", element)\n",
    "                    element.click()\n",
    "                    \n",
    "                    # Book the class by clicking the appropriate buttons\n",
    "                    class_book = wait.until(EC.element_to_be_clickable((By.CSS_SELECTOR, '[data-cy=\"book-button\"]')))\n",
    "                    class_book.click()\n",
    "                    \n",
    "                    confirm_book = wait.until(EC.element_to_be_clickable((By.CSS_SELECTOR, '[data-cy=\"book-class-confirm-button\"]')))\n",
    "                    confirm_book.click()\n",
    "                    \n",
    "                    print(\"Class {} booked successfully.\".format(class_of_day))\n",
    "                    return class_of_day # Exit the function after successful booking\n",
    "            \n",
    "            # If the loop completes without finding the class, refresh and retry\n",
    "            print(\"Class not found, refreshing the page.\")\n",
    "            driver.refresh()\n",
    "            time.sleep(retry_delay)\n",
    "        \n",
    "        except (WebDriverException, StaleElementReferenceException) as e:\n",
    "            print(f\"Attempt {attempt + 1} failed: {e}\")\n",
    "            time.sleep(retry_delay)  # Wait before retrying\n",
    "    \n",
    "    print(\"Failed to book the class after maximum retries.\")\n",
    "\n",
    "# change 18-08-24 - to run only this script once per schedule, so in fact, the list will be only 1 schedule - 36 + 1 hours after"
   ]
  },
  {
   "cell_type": "code",
   "execution_count": 7,
   "id": "e785f9b5-84cf-4445-b6d2-54edad6eae98",
   "metadata": {},
   "outputs": [],
   "source": [
    "upcoming_classes = find_classes_in_next_37_hours(classes_dict)"
   ]
  },
  {
   "cell_type": "code",
   "execution_count": 8,
   "id": "d961b89b-c960-47a4-ad92-22cbe920c714",
   "metadata": {},
   "outputs": [
    {
     "data": {
      "text/plain": [
       "['14:30', '18:15', '19:00', '21:30']"
      ]
     },
     "execution_count": 8,
     "metadata": {},
     "output_type": "execute_result"
    }
   ],
   "source": [
    "# Extract the hours and minutes as strings\n",
    "classes_of_day = [dt.strftime('%H:%M') for dt, class_name in upcoming_classes]\n",
    "\n",
    "classes_of_day"
   ]
  },
  {
   "cell_type": "code",
   "execution_count": 9,
   "id": "3441ac92-65e7-42cb-8857-5290f1940161",
   "metadata": {},
   "outputs": [
    {
     "name": "stdout",
     "output_type": "stream",
     "text": [
      "14:30\n",
      "Class 14:30 booked successfully.\n",
      "18:15\n",
      "Class not found, refreshing the page.\n",
      "Class not found, refreshing the page.\n",
      "Class not found, refreshing the page.\n",
      "Class not found, refreshing the page.\n",
      "Class not found, refreshing the page.\n",
      "Failed to book the class after maximum retries.\n",
      "19:00\n",
      "Attempt 1 failed: Message: \n",
      "Stacktrace:\n",
      "\tGetHandleVerifier [0x00007FF671EC9642+30946]\n",
      "\t(No symbol) [0x00007FF671E7E3D9]\n",
      "\t(No symbol) [0x00007FF671D76FDA]\n",
      "\t(No symbol) [0x00007FF671DC822C]\n",
      "\t(No symbol) [0x00007FF671DC850C]\n",
      "\t(No symbol) [0x00007FF671E0DCB7]\n",
      "\t(No symbol) [0x00007FF671DECAAF]\n",
      "\t(No symbol) [0x00007FF671E0B041]\n",
      "\t(No symbol) [0x00007FF671DEC813]\n",
      "\t(No symbol) [0x00007FF671DBA6E5]\n",
      "\t(No symbol) [0x00007FF671DBB021]\n",
      "\tGetHandleVerifier [0x00007FF671FFF84D+1301229]\n",
      "\tGetHandleVerifier [0x00007FF67200BDC7+1351783]\n",
      "\tGetHandleVerifier [0x00007FF672002A13+1313971]\n",
      "\tGetHandleVerifier [0x00007FF671EFDD16+245686]\n",
      "\t(No symbol) [0x00007FF671E8759F]\n",
      "\t(No symbol) [0x00007FF671E83814]\n",
      "\t(No symbol) [0x00007FF671E839A2]\n",
      "\t(No symbol) [0x00007FF671E7A3FF]\n",
      "\tBaseThreadInitThunk [0x00007FFE5D91257D+29]\n",
      "\tRtlUserThreadStart [0x00007FFE5FA6AF28+40]\n",
      "\n",
      "Attempt 2 failed: Message: \n",
      "\n"
     ]
    },
    {
     "ename": "KeyboardInterrupt",
     "evalue": "",
     "output_type": "error",
     "traceback": [
      "\u001b[1;31m---------------------------------------------------------------------------\u001b[0m",
      "\u001b[1;31mKeyboardInterrupt\u001b[0m                         Traceback (most recent call last)",
      "Cell \u001b[1;32mIn[9], line 6\u001b[0m\n\u001b[0;32m      4\u001b[0m \u001b[38;5;28;01mfor\u001b[39;00m class_of_day \u001b[38;5;129;01min\u001b[39;00m classes_of_day:\n\u001b[0;32m      5\u001b[0m     \u001b[38;5;28mprint\u001b[39m(class_of_day)\n\u001b[1;32m----> 6\u001b[0m     successful_class \u001b[38;5;241m=\u001b[39m schedule_slots(driver, wait, class_of_day)\n\u001b[0;32m      7\u001b[0m     successful_classes\u001b[38;5;241m.\u001b[39mappend(successful_class)\n",
      "Cell \u001b[1;32mIn[6], line 6\u001b[0m, in \u001b[0;36mschedule_slots\u001b[1;34m(driver, wait, class_of_day, max_retries, retry_delay)\u001b[0m\n\u001b[0;32m      3\u001b[0m \u001b[38;5;28;01mfor\u001b[39;00m attempt \u001b[38;5;129;01min\u001b[39;00m \u001b[38;5;28mrange\u001b[39m(max_retries):\n\u001b[0;32m      4\u001b[0m     \u001b[38;5;28;01mtry\u001b[39;00m:\n\u001b[0;32m      5\u001b[0m         \u001b[38;5;66;03m# Locate all schedules\u001b[39;00m\n\u001b[1;32m----> 6\u001b[0m         elements \u001b[38;5;241m=\u001b[39m wait\u001b[38;5;241m.\u001b[39muntil(EC\u001b[38;5;241m.\u001b[39mvisibility_of_all_elements_located((By\u001b[38;5;241m.\u001b[39mCSS_SELECTOR, \u001b[38;5;124m'\u001b[39m\u001b[38;5;124m[data-cy=\u001b[39m\u001b[38;5;124m\"\u001b[39m\u001b[38;5;124mstart-time\u001b[39m\u001b[38;5;124m\"\u001b[39m\u001b[38;5;124m]\u001b[39m\u001b[38;5;124m'\u001b[39m)))\n\u001b[0;32m      8\u001b[0m         \u001b[38;5;66;03m# Attempt to find and click the desired class slot\u001b[39;00m\n\u001b[0;32m      9\u001b[0m         \u001b[38;5;28;01mfor\u001b[39;00m element \u001b[38;5;129;01min\u001b[39;00m elements:\n",
      "File \u001b[1;32m~\\anaconda3\\Lib\\site-packages\\selenium\\webdriver\\support\\wait.py:102\u001b[0m, in \u001b[0;36mWebDriverWait.until\u001b[1;34m(self, method, message)\u001b[0m\n\u001b[0;32m    100\u001b[0m     screen \u001b[38;5;241m=\u001b[39m \u001b[38;5;28mgetattr\u001b[39m(exc, \u001b[38;5;124m\"\u001b[39m\u001b[38;5;124mscreen\u001b[39m\u001b[38;5;124m\"\u001b[39m, \u001b[38;5;28;01mNone\u001b[39;00m)\n\u001b[0;32m    101\u001b[0m     stacktrace \u001b[38;5;241m=\u001b[39m \u001b[38;5;28mgetattr\u001b[39m(exc, \u001b[38;5;124m\"\u001b[39m\u001b[38;5;124mstacktrace\u001b[39m\u001b[38;5;124m\"\u001b[39m, \u001b[38;5;28;01mNone\u001b[39;00m)\n\u001b[1;32m--> 102\u001b[0m time\u001b[38;5;241m.\u001b[39msleep(\u001b[38;5;28mself\u001b[39m\u001b[38;5;241m.\u001b[39m_poll)\n\u001b[0;32m    103\u001b[0m \u001b[38;5;28;01mif\u001b[39;00m time\u001b[38;5;241m.\u001b[39mmonotonic() \u001b[38;5;241m>\u001b[39m end_time:\n\u001b[0;32m    104\u001b[0m     \u001b[38;5;28;01mbreak\u001b[39;00m\n",
      "\u001b[1;31mKeyboardInterrupt\u001b[0m: "
     ]
    }
   ],
   "source": [
    "# run all and see which ones were successfully reserved (\"successful_classes\" variable)\n",
    "\n",
    "successful_classes = []\n",
    "for class_of_day in classes_of_day:\n",
    "    print(class_of_day)\n",
    "    successful_class = schedule_slots(driver, wait, class_of_day)\n",
    "    successful_classes.append(successful_class)"
   ]
  },
  {
   "cell_type": "code",
   "execution_count": null,
   "id": "44f648cd-ca51-4d1c-bb41-b1c31ebb688c",
   "metadata": {},
   "outputs": [],
   "source": [
    "# See the corresponding class names of each succeful time slot\n",
    "filtered_class_dict = {time: classes_dict[day_of_week_tomorrow][time] for time in successful_classes if time in classes_dict[day_of_week_tomorrow]}\n",
    "\n",
    "print(filtered_class_dict)"
   ]
  },
  {
   "cell_type": "code",
   "execution_count": null,
   "id": "63ede1a7-e031-401a-aae1-6c582524a543",
   "metadata": {},
   "outputs": [],
   "source": [
    "# now that all was done, close the session\n",
    "driver.quit()"
   ]
  },
  {
   "cell_type": "code",
   "execution_count": null,
   "id": "68b35538-4a49-40bb-83fe-5ba400129304",
   "metadata": {},
   "outputs": [],
   "source": [
    "# define function to send email via TLS\n",
    "\n",
    "def send_notification(filtered_class_dict, user_email, thread_message_id=None):\n",
    "    # Set up the server and email details\n",
    "    smtp_server = 'smtp.gmail.com'\n",
    "    smtp_port = 587  # TLS port\n",
    "    smtp_user = os.getenv('SMTP_USER')  # access the env variable\n",
    "    smtp_password = os.getenv('SMTP_PASSWORD')  # access the env variable\n",
    "    \n",
    "    # Create the email\n",
    "    msg = MIMEMultipart()\n",
    "    msg['From'] = smtp_user\n",
    "    msg['To'] = user_email\n",
    "    msg['Subject'] = f'Fitness Hut Class Booking Notification for {tomorrow}'\n",
    "\n",
    "    # Include threading headers if replying to an existing thread\n",
    "    if thread_message_id:\n",
    "        msg['In-Reply-To'] = thread_message_id\n",
    "        msg['References'] = thread_message_id\n",
    "    else:\n",
    "        # Generate a unique Message-ID for this email (this will be used as the thread ID)\n",
    "        msg_id_domain = smtp_user.split('@')[-1]\n",
    "        msg_id = f\"<{os.urandom(24).hex()}@{msg_id_domain}>\"\n",
    "        msg['Message-ID'] = msg_id\n",
    "        print(f'msg_id is {msg_id}')\n",
    "\n",
    "    # Create the body of the email\n",
    "    if filtered_class_dict:\n",
    "        concatenated_items = [f\"{key} - {value}\" for key, value in filtered_class_dict.items()]\n",
    "        \n",
    "        body = f\"The following classes were successfully booked for {day_of_week_tomorrow}, {tomorrow}:\\n\\n\" + \"\\n\".join(concatenated_items)\n",
    "    else:\n",
    "        body = f\"No classes were successfully booked for {day_of_week_tomorrow}, {tomorrow} :(\"\n",
    "\n",
    "    msg.attach(MIMEText(body, 'plain'))\n",
    "    \n",
    "    # Send the email\n",
    "    try:\n",
    "        server = smtplib.SMTP(smtp_server, smtp_port)\n",
    "        server.starttls()\n",
    "        server.login(smtp_user, smtp_password)\n",
    "        text = msg.as_string()\n",
    "        server.sendmail(smtp_user, user_email, text)\n",
    "        server.quit()\n",
    "        print(f\"Notification email sent to {user_email}\")\n",
    "        \n",
    "        # Return the Message-ID to use it in the next reply\n",
    "        return msg_id if not thread_message_id else thread_message_id\n",
    "        \n",
    "    except Exception as e:\n",
    "        print(f\"Failed to send email: {e}\")\n",
    "        return None"
   ]
  },
  {
   "cell_type": "code",
   "execution_count": null,
   "id": "08f2b8e6-1ad9-4500-9ecd-e6bbec73c088",
   "metadata": {},
   "outputs": [],
   "source": [
    "# send email notification\n",
    "\n",
    "receive_notification_email = config['Email Notification']['receiver_email']\n",
    "\n",
    "send_notification(filtered_class_dict, receive_notification_email, thread_message_id='<d457b64436c0154acaf5d6778875a5e6ebba97c8be1cfb30@gmail.com>')\n",
    "\n",
    "print('current time is: {}'.format(datetime.now()))"
   ]
  }
 ],
 "metadata": {
  "kernelspec": {
   "display_name": "Python 3 (ipykernel)",
   "language": "python",
   "name": "python3"
  },
  "language_info": {
   "codemirror_mode": {
    "name": "ipython",
    "version": 3
   },
   "file_extension": ".py",
   "mimetype": "text/x-python",
   "name": "python",
   "nbconvert_exporter": "python",
   "pygments_lexer": "ipython3",
   "version": "3.12.4"
  }
 },
 "nbformat": 4,
 "nbformat_minor": 5
}
