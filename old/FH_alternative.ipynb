{
 "cells": [
  {
   "cell_type": "code",
   "execution_count": 21,
   "id": "c3bb5c1f-14ba-4167-859a-46661a840ea5",
   "metadata": {},
   "outputs": [],
   "source": [
    "#!/usr/bin/env python\n",
    "# coding: utf-8\n",
    "\n",
    "import time\n",
    "import pandas as pd\n",
    "from bs4 import BeautifulSoup\n",
    "from datetime import datetime, timedelta\n",
    "import os\n",
    "import subprocess\n",
    "import configparser\n",
    "import chromedriver_autoinstaller\n",
    "\n",
    "from selenium import webdriver\n",
    "from selenium.webdriver.common.by import By\n",
    "from selenium.webdriver.common.keys import Keys\n",
    "from selenium.webdriver.chrome.service import Service\n",
    "from selenium.webdriver.chrome.options import Options\n",
    "from selenium.webdriver.support.ui import WebDriverWait\n",
    "from selenium.webdriver.support import expected_conditions as EC\n",
    "from selenium.webdriver.support.ui import Select\n",
    "from selenium.common.exceptions import WebDriverException, StaleElementReferenceException\n",
    "\n",
    "import smtplib\n",
    "from email.mime.text import MIMEText\n",
    "from email.mime.multipart import MIMEMultipart\n",
    "\n",
    "from main_init import initial_exec, clone_repo, commit_push"
   ]
  },
  {
   "cell_type": "code",
   "execution_count": 22,
   "id": "0c5d2549-bf85-4388-9c47-9abcd101be79",
   "metadata": {},
   "outputs": [],
   "source": [
    "# define important parameters - on the config.ini file and parse it\n",
    "config = configparser.ConfigParser()\n",
    "config.read('config.ini')\n",
    "\n",
    "# usually these 3 are static\n",
    "\n",
    "#chromedriver = config['Optional Config Parameters']['chromedriver']\n",
    "gui_display = eval(config['Optional Config Parameters']['gui_display']) # to show or not the GUI - True is only useful when testing and to deploy outside my PC, it had to be False\n",
    "website = config['Optional Config Parameters']['website']\n",
    "\n",
    "user = config['Fitness Hut Credentials']['username']\n",
    "pwd = config['Fitness Hut Credentials']['password']\n",
    "\n",
    "\n",
    "# run the function on main_init.py and assign 2 variables to continue\n",
    "driver, wait = initial_exec(user, pwd, website, gui_display)\n",
    "\n",
    "# retrieve dictionary of days to schedule - we can change this always\n",
    "\n",
    "classes_dict = eval(config['Classes to Schedule by Day']['classes_dict'])"
   ]
  },
  {
   "cell_type": "code",
   "execution_count": 68,
   "id": "43068dee-6680-487c-adba-85eda85c9d16",
   "metadata": {},
   "outputs": [],
   "source": [
    "#################################### [IMPORTANT] ############################################# \n",
    "# SINCE GITHUB ACTIONS ALWAYS GET THE SCHEDULED DELAYED, AN ALTERNATIVE METHOD HAD TO BE DONE IN ORDER TO PROPERLY SCHEDULE THE CLASSES\n",
    "# Therefore, I will run sequentially first to book the next class - according to the run_logs.txt file\n",
    "\n",
    "def read_file(file_path):\n",
    "    with open(file_path, 'r') as file:\n",
    "        content = file.read()\n",
    "        return content"
   ]
  },
  {
   "cell_type": "code",
   "execution_count": 82,
   "id": "d4b22ba2-c883-4fe7-a7e8-79ad3bf69948",
   "metadata": {},
   "outputs": [],
   "source": [
    "all_logs = read_file(file_path)"
   ]
  },
  {
   "cell_type": "code",
   "execution_count": 84,
   "id": "165bf4e8-7fdd-4048-a0d3-cab4005908c2",
   "metadata": {},
   "outputs": [
    {
     "data": {
      "text/plain": [
       "'Successful class booked on Thrusday, 2024-08-22 -> 13:15 - Body Pump.'"
      ]
     },
     "execution_count": 84,
     "metadata": {},
     "output_type": "execute_result"
    }
   ],
   "source": [
    "last_log = all_logs.split('\\n')[-2]\n",
    "last_log"
   ]
  },
  {
   "cell_type": "code",
   "execution_count": 63,
   "id": "dbd731ae-acf2-4808-960a-cc2b40e26f13",
   "metadata": {},
   "outputs": [
    {
     "data": {
      "text/plain": [
       "'Successful class booked on Friday, 2024-08-23 -> 14:30 - Virtual Cycling.\\n'"
      ]
     },
     "execution_count": 63,
     "metadata": {},
     "output_type": "execute_result"
    }
   ],
   "source": [
    "filtered_class_dict = {time: classes_dict[day_of_week_tomorrow][time] for time in successful_classes if time in classes_dict[day_of_week_tomorrow]}\n",
    "concatenated_items = [f\"{key} - {value}\" for key, value in filtered_class_dict.items()]\n",
    "        \n",
    "body = f\"Successful class booked on {day_of_week_tomorrow}, {tomorrow} -> {concatenated_items[0]}.\\n\"\n",
    "body"
   ]
  },
  {
   "cell_type": "code",
   "execution_count": 49,
   "id": "1bf8e51e-c5bb-4bc1-b48d-0e5f3278187b",
   "metadata": {},
   "outputs": [
    {
     "data": {
      "text/plain": [
       "'Friday'"
      ]
     },
     "execution_count": 49,
     "metadata": {},
     "output_type": "execute_result"
    }
   ],
   "source": [
    "day_of_week_tomorrow"
   ]
  },
  {
   "cell_type": "code",
   "execution_count": 61,
   "id": "5b05a8b2-fc1d-4f97-a937-23d8fcf103a4",
   "metadata": {},
   "outputs": [
    {
     "data": {
      "text/plain": [
       "'14:30'"
      ]
     },
     "execution_count": 61,
     "metadata": {},
     "output_type": "execute_result"
    }
   ],
   "source": [
    "last_schedule = [k for k,v in filtered_class_dict.items()][0]\n",
    "last_schedule"
   ]
  },
  {
   "cell_type": "code",
   "execution_count": 59,
   "id": "80e4dacf-7b72-4795-9cbf-41635e7b5c24",
   "metadata": {},
   "outputs": [
    {
     "data": {
      "text/plain": [
       "'14:30'"
      ]
     },
     "execution_count": 59,
     "metadata": {},
     "output_type": "execute_result"
    }
   ],
   "source": [
    "[k for k,v in filtered_class_dict.items()][0]"
   ]
  },
  {
   "cell_type": "code",
   "execution_count": 46,
   "id": "9521c4cf-5910-4b04-9d24-cf298601ddc9",
   "metadata": {},
   "outputs": [
    {
     "data": {
      "text/plain": [
       "'2024-08-23'"
      ]
     },
     "execution_count": 46,
     "metadata": {},
     "output_type": "execute_result"
    }
   ],
   "source": [
    "tomorrow"
   ]
  },
  {
   "cell_type": "code",
   "execution_count": null,
   "id": "ed06a6ca-50e8-4a48-94b5-5f6514c9ec8e",
   "metadata": {},
   "outputs": [],
   "source": []
  },
  {
   "cell_type": "code",
   "execution_count": 23,
   "id": "ab0d1b96-067c-4025-9217-eede946e495a",
   "metadata": {
    "scrolled": true
   },
   "outputs": [
    {
     "name": "stdout",
     "output_type": "stream",
     "text": [
      "2024-08-22 01:30:46.553971\n",
      "Scheduled classes:\n",
      "Friday 14:30 - Virtual Cycling\n",
      "14:30\n",
      "Attempt 1 failed: Message: stale element reference: stale element not found in the current frame\n",
      "  (Session info: chrome-headless-shell=127.0.6533.120); For documentation on this error, please visit: https://www.selenium.dev/documentation/webdriver/troubleshooting/errors#stale-element-reference-exception\n",
      "Stacktrace:\n",
      "\tGetHandleVerifier [0x00007FF671EC9642+30946]\n",
      "\t(No symbol) [0x00007FF671E7E3D9]\n",
      "\t(No symbol) [0x00007FF671D76FDA]\n",
      "\t(No symbol) [0x00007FF671D7DA57]\n",
      "\t(No symbol) [0x00007FF671D7FD31]\n",
      "\t(No symbol) [0x00007FF671D7FDD0]\n",
      "\t(No symbol) [0x00007FF671DCFDD9]\n",
      "\t(No symbol) [0x00007FF671DCD962]\n",
      "\t(No symbol) [0x00007FF671DCAE7B]\n",
      "\t(No symbol) [0x00007FF671DCA095]\n",
      "\t(No symbol) [0x00007FF671DBC271]\n",
      "\t(No symbol) [0x00007FF671DECA6A]\n",
      "\t(No symbol) [0x00007FF671DBBBB6]\n",
      "\t(No symbol) [0x00007FF671DECC80]\n",
      "\t(No symbol) [0x00007FF671E0B041]\n",
      "\t(No symbol) [0x00007FF671DEC813]\n",
      "\t(No symbol) [0x00007FF671DBA6E5]\n",
      "\t(No symbol) [0x00007FF671DBB021]\n",
      "\tGetHandleVerifier [0x00007FF671FFF84D+1301229]\n",
      "\tGetHandleVerifier [0x00007FF67200BDC7+1351783]\n",
      "\tGetHandleVerifier [0x00007FF672002A13+1313971]\n",
      "\tGetHandleVerifier [0x00007FF671EFDD16+245686]\n",
      "\t(No symbol) [0x00007FF671E8759F]\n",
      "\t(No symbol) [0x00007FF671E83814]\n",
      "\t(No symbol) [0x00007FF671E839A2]\n",
      "\t(No symbol) [0x00007FF671E7A3FF]\n",
      "\tBaseThreadInitThunk [0x00007FFE5D91257D+29]\n",
      "\tRtlUserThreadStart [0x00007FFE5FA6AF28+40]\n",
      "\n",
      "Class 14:30 booked successfully.\n",
      "{'14:30': 'Virtual Cycling'}\n"
     ]
    }
   ],
   "source": [
    "# now we want to know today's date so that we can book tomorrow's class - 36 + 1 hours ahead \n",
    "# This because here in config.ini we define Lisbon Time which is UTC + 1, vs UTC scheduler in the app where we will deploy\n",
    "\n",
    "current_time = datetime(2024, 8, 22, 1, 30, 46, 553971)\n",
    "#current_time = datetime.now()\n",
    "print(current_time)\n",
    "\n",
    "today = current_time.strftime(\"%Y-%m-%d\")\n",
    "day_of_week_today = current_time.strftime('%A')\n",
    "\n",
    "tomorrow = (current_time + timedelta(hours=37)).strftime(\"%Y-%m-%d\")\n",
    "day_of_week_tomorrow = (current_time + timedelta(hours=37)).strftime('%A')\n",
    "\n",
    "\n",
    "#tomorrow = '2024-08-16'\n",
    "#day_of_week_tomorrow = 'Friday'\n",
    "#classes_of_day = ['19:30', '21:30']\n",
    "\n",
    "# click on tomorrow's day first\n",
    "\n",
    "day_select = wait.until(EC.element_to_be_clickable((By.CSS_SELECTOR, '[data-cy=\"booking-swiper-date-{}\"]'.format(tomorrow))))\n",
    "day_select.click()\n",
    "\n",
    "def schedule_slots(driver, wait, class_of_day, max_retries=5, retry_delay=2):\n",
    "    \n",
    "    for attempt in range(max_retries):\n",
    "        try:\n",
    "            # Locate all schedules\n",
    "            elements = wait.until(EC.visibility_of_all_elements_located((By.CSS_SELECTOR, '[data-cy=\"start-time\"]')))\n",
    "            \n",
    "            # Attempt to find and click the desired class slot\n",
    "            for element in elements:\n",
    "                if element.text == class_of_day:\n",
    "                    # Click the element\n",
    "                    #driver.execute_script(\"arguments[0].click();\", element)\n",
    "                    element.click()\n",
    "                    \n",
    "                    # Book the class by clicking the appropriate buttons\n",
    "                    class_book = wait.until(EC.element_to_be_clickable((By.CSS_SELECTOR, '[data-cy=\"book-button\"]')))\n",
    "                    class_book.click()\n",
    "                    \n",
    "                    confirm_book = wait.until(EC.element_to_be_clickable((By.CSS_SELECTOR, '[data-cy=\"book-class-confirm-button\"]')))\n",
    "                    confirm_book.click()\n",
    "                    \n",
    "                    print(\"Class {} booked successfully.\".format(class_of_day))\n",
    "                    return class_of_day # Exit the function after successful booking\n",
    "            \n",
    "            # If the loop completes without finding the class, refresh and retry\n",
    "            print(\"Class not found, refreshing the page.\")\n",
    "            driver.refresh()\n",
    "            time.sleep(retry_delay)\n",
    "        \n",
    "        except (WebDriverException, StaleElementReferenceException) as e:\n",
    "            print(f\"Attempt {attempt + 1} failed: {e}\")\n",
    "            time.sleep(retry_delay)  # Wait before retrying\n",
    "    \n",
    "    print(\"Failed to book the class after maximum retries.\")\n",
    "\n",
    "# change 18-08-24 - to run only this script once per schedule, so in fact, the list will be only 1 schedule - 36 + 1 hours after\n",
    "\n",
    "# Calculate the time 37 hours from now\n",
    "target_time = current_time + timedelta(hours=37)\n",
    "\n",
    "# Function to check if a class is within the target time range (±30 minutes)\n",
    "def is_class_within_target_range(class_time_str):\n",
    "    # Combine the next day and class time into a datetime object\n",
    "    class_time = datetime.strptime(class_time_str, '%H:%M')\n",
    "    class_datetime = target_time.replace(hour=class_time.hour, minute=class_time.minute)\n",
    "\n",
    "    # Check if the class time falls within the ±30 minutes (1800 seconds) range\n",
    "    return abs((class_datetime - target_time).total_seconds()) <= 1800\n",
    "\n",
    "# Find and print the classes that match the criteria for the next day\n",
    "scheduled_classes = []\n",
    "if day_of_week_tomorrow in classes_dict:\n",
    "    for time_str, class_name in classes_dict[day_of_week_tomorrow].items():\n",
    "        if is_class_within_target_range(time_str):\n",
    "            scheduled_classes.append(f\"{day_of_week_tomorrow} {time_str} - {class_name}\")\n",
    "\n",
    "classes_of_day = []\n",
    "# Output the scheduled classes\n",
    "if scheduled_classes:\n",
    "    print(\"Scheduled classes:\")\n",
    "    for scheduled_class in scheduled_classes:\n",
    "        print(scheduled_class)\n",
    "        classes_of_day.append(scheduled_class.split()[1])\n",
    "else:\n",
    "    print(\"No classes available within the target time range.\")\n",
    "\n",
    "successful_classes = []\n",
    "\n",
    "# run all and see which ones were successfully reserved (\"successful_classes\" variable)\n",
    "for class_of_day in classes_of_day:\n",
    "    print(class_of_day)\n",
    "    successful_class = schedule_slots(driver, wait, class_of_day)\n",
    "    successful_classes.append(successful_class)\n",
    "\n",
    "# See the corresponding class names of each succeful time slot\n",
    "filtered_class_dict = {time: classes_dict[day_of_week_tomorrow][time] for time in successful_classes if time in classes_dict[day_of_week_tomorrow]}\n",
    "\n",
    "print(filtered_class_dict)\n",
    "\n",
    "\n",
    "# now that all was done, close the session\n",
    "driver.quit()"
   ]
  },
  {
   "cell_type": "code",
   "execution_count": 24,
   "id": "a4443482-9bf4-4f27-99bc-1ef46848a050",
   "metadata": {},
   "outputs": [],
   "source": [
    "# define function to send email via TLS\n",
    "\n",
    "def send_notification(filtered_class_dict, user_email, thread_message_id=None):\n",
    "    # Set up the server and email details\n",
    "    smtp_server = 'smtp.gmail.com'\n",
    "    smtp_port = 587  # TLS port\n",
    "    smtp_user = os.getenv('SMTP_USER')  # access the env variable\n",
    "    smtp_password = os.getenv('SMTP_PASSWORD')  # access the env variable\n",
    "    \n",
    "    # Create the email\n",
    "    msg = MIMEMultipart()\n",
    "    msg['From'] = smtp_user\n",
    "    msg['To'] = user_email\n",
    "    msg['Subject'] = f'Fitness Hut Class Booking Notification for {tomorrow}'\n",
    "\n",
    "    # Include threading headers if replying to an existing thread\n",
    "    if thread_message_id:\n",
    "        msg['In-Reply-To'] = thread_message_id\n",
    "        msg['References'] = thread_message_id\n",
    "    else:\n",
    "        # Generate a unique Message-ID for this email (this will be used as the thread ID)\n",
    "        msg_id_domain = smtp_user.split('@')[-1]\n",
    "        msg_id = f\"<{os.urandom(24).hex()}@{msg_id_domain}>\"\n",
    "        msg['Message-ID'] = msg_id\n",
    "        print(f'msg_id is {msg_id}')\n",
    "\n",
    "    # Create the body of the email\n",
    "    if filtered_class_dict:\n",
    "        concatenated_items = [f\"{key} - {value}\" for key, value in filtered_class_dict.items()]\n",
    "        \n",
    "        body = f\"The following classes were successfully booked for {day_of_week_tomorrow}, {tomorrow}:\\n\\n\" + \"\\n\".join(concatenated_items)\n",
    "    else:\n",
    "        body = f\"No classes were successfully booked for {day_of_week_tomorrow}, {tomorrow} :(\"\n",
    "\n",
    "    msg.attach(MIMEText(body, 'plain'))\n",
    "    \n",
    "    # Send the email\n",
    "    try:\n",
    "        server = smtplib.SMTP(smtp_server, smtp_port)\n",
    "        server.starttls()\n",
    "        server.login(smtp_user, smtp_password)\n",
    "        text = msg.as_string()\n",
    "        server.sendmail(smtp_user, user_email, text)\n",
    "        server.quit()\n",
    "        print(f\"Notification email sent to {user_email}\")\n",
    "        \n",
    "        # Return the Message-ID to use it in the next reply\n",
    "        return msg_id if not thread_message_id else thread_message_id\n",
    "        \n",
    "    except Exception as e:\n",
    "        print(f\"Failed to send email: {e}\")\n",
    "        return None"
   ]
  },
  {
   "cell_type": "code",
   "execution_count": 4,
   "id": "38fbe214-e371-4b29-9aef-74f2d93e4cb6",
   "metadata": {},
   "outputs": [
    {
     "name": "stdout",
     "output_type": "stream",
     "text": [
      "current time is: 2024-08-22 10:05:45.909192\n"
     ]
    }
   ],
   "source": [
    "# send email notification\n",
    "\n",
    "#receive_notification_email = config['Email Notification']['receiver_email']\n",
    "\n",
    "send_notification(filtered_class_dict, receive_notification_email, thread_message_id='<d457b64436c0154acaf5d6778875a5e6ebba97c8be1cfb30@gmail.com>')\n",
    "\n",
    "print('current time is: {}'.format(datetime.now()))"
   ]
  },
  {
   "cell_type": "code",
   "execution_count": 74,
   "id": "7a2822b2-c1ae-4870-beb8-8d421591c6ab",
   "metadata": {},
   "outputs": [],
   "source": [
    "def modify_file(file_path, new_content):\n",
    "    with open(file_path, 'a') as file:  # 'a' mode to append, 'w' mode to overwrite\n",
    "        file.write(new_content)"
   ]
  },
  {
   "cell_type": "code",
   "execution_count": null,
   "id": "0971b05f-0114-42e4-90e8-d90a6a3774b5",
   "metadata": {},
   "outputs": [],
   "source": []
  },
  {
   "cell_type": "code",
   "execution_count": 79,
   "id": "f89a74a3-bc5a-458c-9bc0-f17180fc02d6",
   "metadata": {},
   "outputs": [],
   "source": [
    "repo_url = config['Optional Config Parameters']['github_repo']\n",
    "clone_dir = ''\n",
    "file_path = os.path.join(clone_dir, 'run_logs.txt')\n",
    "#new_content = body #'22-08-2024.\\n' # we can hardcode if needed to save a run that failed\n",
    "commit_message = 'Updated run_logs.txt with new successful run'\n",
    "\n",
    "clone_repo(repo_url, clone_dir)\n",
    "modify_file(file_path, new_content)\n",
    "commit_push(commit_message)"
   ]
  },
  {
   "cell_type": "code",
   "execution_count": 78,
   "id": "5db5a983-04f2-4ce0-b4e4-577b7274337b",
   "metadata": {},
   "outputs": [],
   "source": [
    "new_content = 'Successful class booked on Thrusday, 2024-08-22 -> 13:15 - Body Pump.\\n'"
   ]
  }
 ],
 "metadata": {
  "kernelspec": {
   "display_name": "Python 3 (ipykernel)",
   "language": "python",
   "name": "python3"
  },
  "language_info": {
   "codemirror_mode": {
    "name": "ipython",
    "version": 3
   },
   "file_extension": ".py",
   "mimetype": "text/x-python",
   "name": "python",
   "nbconvert_exporter": "python",
   "pygments_lexer": "ipython3",
   "version": "3.12.4"
  }
 },
 "nbformat": 4,
 "nbformat_minor": 5
}
